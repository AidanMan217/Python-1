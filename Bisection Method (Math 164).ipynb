{
 "cells": [
  {
   "cell_type": "code",
   "execution_count": 4,
   "metadata": {},
   "outputs": [],
   "source": [
    "import numpy as np\n",
    "import matplotlib as plot"
   ]
  },
  {
   "cell_type": "markdown",
   "metadata": {},
   "source": [
    "**Explanation:**\n",
    "\n",
    "The bisection method works as follows...\n",
    "\n",
    "Let the initial point $x_0$ be the midpoint between $a$ and $b$ in the given interval $[a,b]$ such that $x_0 = \\frac{a+b}{2}$\n",
    "\n",
    "Then calculate $f'(x_0)$\n",
    "\n",
    "If $f'(x_0) > 0$ then the minimzer $x^*$ lies to the left of $x_0$ so the updated interval is $[a,x_0]$\n",
    "\n",
    "If $f'(x_0) < 0$ then the minimzer $x^*$ lies to the right of $x_0$ so the updated interval is $[x_0,b]$\n",
    "\n",
    "If $f'(x_0) = 0$ then the minimzer $x^*$ = $x_0$\n",
    "\n",
    "If $f'(x_0) \\neq 0$, then you either have the intervals $[a,x_0]$ or $[x_0,b]$. Then $x_1 = \\frac{a+x_0}{2}$ or $x_1 = \\frac{x_0+b}{2}$\n",
    "\n",
    "Now you repeat the conditional process for $f'(x_n)$ until you get a new interval, in this case it's $[x_1,x_0]$ or $[x_0,x_1]$ or $[a,x_1]$ or $[x_1,b]$\n",
    "\n",
    "Keep doing this process until $f'(x_n)$ converges to 0. You will then get an interval $[x_i,x_j]$ $\\forall i,j \\in \\mathbb{N}$ that contains the minimizer $x^*$. The $x_i$ and $x_j$ will have a very small difference, so it's safe to say that $x^* = \\frac{x_i + x_j}{2}$ when calculating in python.\n"
   ]
  },
  {
   "cell_type": "code",
   "execution_count": null,
   "metadata": {},
   "outputs": [
    {
     "name": "stdout",
     "output_type": "stream",
     "text": [
      "-23 12.000072047158028\n"
     ]
    }
   ],
   "source": [
    "def f(x): #given function f(x)\n",
    "    return x**4 - 14*x**3 + 60*x**2 - 70*x\n",
    "\n",
    "def df(x): #derivative function f'(x)\n",
    "    h = 1e-10\n",
    "    return (f(x+h)-f(x))/h\n",
    "\n",
    "print(f(1),df(1))"
   ]
  },
  {
   "cell_type": "code",
   "execution_count": null,
   "metadata": {},
   "outputs": [
    {
     "name": "stdout",
     "output_type": "stream",
     "text": [
      "update b\n",
      "update a\n",
      "update a\n",
      "update b\n",
      "update b\n",
      "update b\n",
      "update a\n",
      "update a\n",
      "update a\n",
      "update a\n",
      "update a\n",
      "update a\n",
      "update b\n",
      "update a\n",
      "update b\n",
      "update b\n",
      "update b\n",
      "update b\n",
      "update b\n",
      "update b\n",
      "update b\n",
      "update b\n",
      "update b\n",
      "update b\n",
      "min\n",
      "min\n",
      "min\n",
      "min\n",
      "min\n",
      "min\n",
      "min\n",
      "min\n",
      "min\n",
      "min\n",
      "min\n",
      "min\n",
      "min\n",
      "min\n",
      "min\n",
      "min\n",
      "min\n",
      "min\n",
      "min\n",
      "min\n",
      "min\n",
      "min\n",
      "min\n",
      "min\n",
      "min\n",
      "min\n",
      "(0.7808837890625, 0.7808839082717896)\n",
      "update b\n",
      "update a\n",
      "update a\n",
      "update b\n",
      "update b\n",
      "update b\n",
      "update a\n",
      "update a\n",
      "update a\n",
      "update a\n",
      "update a\n",
      "update a\n",
      "update b\n",
      "update a\n",
      "update b\n",
      "update b\n",
      "update b\n",
      "update b\n",
      "update b\n",
      "update b\n",
      "update b\n",
      "update b\n",
      "update b\n",
      "update b\n",
      "min\n",
      "min\n",
      "min\n",
      "min\n",
      "min\n",
      "min\n",
      "min\n",
      "min\n",
      "min\n",
      "min\n",
      "min\n",
      "min\n",
      "min\n",
      "min\n",
      "min\n",
      "min\n",
      "min\n",
      "min\n",
      "min\n",
      "min\n",
      "min\n",
      "min\n",
      "min\n",
      "min\n",
      "min\n",
      "min\n",
      "x* ∈  (0.7808837890625, 0.7808839082717896)\n",
      "1.1920928955078125e-07\n"
     ]
    }
   ],
   "source": [
    "def bis(a,b,n): #bisection method defined on interval [a,b] with n steps\n",
    "    for i in range(n):\n",
    "        x = (a+b)/2\n",
    "        if df(x) < 0:\n",
    "            a = x\n",
    "            print(\"update a\")\n",
    "        if df(x) > 0:\n",
    "            b=x\n",
    "            print(\"update b\")\n",
    "        if df(x) == 0:\n",
    "            print(\"min\")\n",
    "    return a,b\n",
    "\n",
    "#interval\n",
    "a,b = 0,2\n",
    "\n",
    "#steps\n",
    "n = 50\n",
    "\n",
    "print(bis(a,b,n))\n",
    "minimizer = bis(a,b,n)\n",
    "print(\"x* ∈ \", minimizer)\n"
   ]
  },
  {
   "cell_type": "markdown",
   "metadata": {},
   "source": [
    "As you can see that the bisection method eventually converges given by the repeated outputs of \"min\" and it outputs the interval in which the minimizer lies. "
   ]
  },
  {
   "cell_type": "code",
   "execution_count": 84,
   "metadata": {},
   "outputs": [
    {
     "name": "stdout",
     "output_type": "stream",
     "text": [
      "1.1920928955078125e-07\n"
     ]
    }
   ],
   "source": [
    "print(np.abs(minimizer[1]-minimizer[0]))\n",
    "    "
   ]
  },
  {
   "cell_type": "markdown",
   "metadata": {},
   "source": [
    "The difference between the end points of the interval is very small, so it's safe to say that $x^*$ is very very very close to $\\frac{x+y}{2}$ for $x$ and $y$ are the end points of the output respectively."
   ]
  }
 ],
 "metadata": {
  "kernelspec": {
   "display_name": "Python 3",
   "language": "python",
   "name": "python3"
  },
  "language_info": {
   "codemirror_mode": {
    "name": "ipython",
    "version": 3
   },
   "file_extension": ".py",
   "mimetype": "text/x-python",
   "name": "python",
   "nbconvert_exporter": "python",
   "pygments_lexer": "ipython3",
   "version": "3.12.1"
  }
 },
 "nbformat": 4,
 "nbformat_minor": 2
}
