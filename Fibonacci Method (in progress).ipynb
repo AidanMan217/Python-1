{
 "cells": [
  {
   "cell_type": "code",
   "execution_count": 400,
   "metadata": {},
   "outputs": [],
   "source": [
    "import numpy as np\n",
    "import matplotlib as plot"
   ]
  },
  {
   "cell_type": "code",
   "execution_count": 401,
   "metadata": {},
   "outputs": [],
   "source": [
    "def f(x):\n",
    "    return x**4 - 14*x**3 + 60*x**2 - 70*x\n"
   ]
  },
  {
   "cell_type": "markdown",
   "metadata": {},
   "source": [
    "The Fibonacci Search method is similar to the Golden Section Search method"
   ]
  },
  {
   "cell_type": "markdown",
   "metadata": {},
   "source": [
    "Instead of $\\rho$ being equal to one value, it now changes based on the Fibonacci numbers.\n",
    "\n",
    "$\\rho _1 = 1 - \\frac{F_N}{F_{N+1}} \\, \\ldots \\, \\rho _n = 1 - \\frac{F_1}{F_{2}}$\n",
    "\n",
    "where $F_1 = 1, F_2 = 2, F_3 = 3, F_4 = 5, F_5 = 8, \\ldots , F_k = F_k + F_{k-1}$\n",
    "\n",
    "which are the $F_k$ represents each Fibonacci number in the Fibonacci sequence"
   ]
  },
  {
   "cell_type": "code",
   "execution_count": 402,
   "metadata": {},
   "outputs": [
    {
     "name": "stdout",
     "output_type": "stream",
     "text": [
      "34\n"
     ]
    }
   ],
   "source": [
    "def fibo(k):\n",
    "    seq = [0,1]\n",
    "    for i in range(k):\n",
    "        step = np.array(seq[-1]) + np.array(seq[-2])\n",
    "        seq.append(step)\n",
    "    return seq\n",
    "\n",
    "print(fibo(10)[9])\n",
    "\n",
    "# k will probably represent the amount of steps and n repressnts the fibonacci number position"
   ]
  },
  {
   "cell_type": "code",
   "execution_count": 415,
   "metadata": {},
   "outputs": [
    {
     "name": "stdout",
     "output_type": "stream",
     "text": [
      "[np.float64(0.6), np.float64(0.6666666666666666), np.float64(0.5)]\n",
      "0.6\n",
      "0.375\n"
     ]
    }
   ],
   "source": [
    "# this is  1-rho_n \n",
    "\n",
    "def rho(n): # n is the number of steps we will use for the fibonacci method\n",
    "    seq = []\n",
    "    for i in range(n-1):\n",
    "        d = fibo(100)[n-i]/fibo(100)[(n+1)-i]\n",
    "        #print(d)\n",
    "        seq.append(d)\n",
    "    return(seq)\n",
    "\n",
    "# this is rho_n\n",
    "\n",
    "def rho1(n): # n is the number of steps we will use for the fibonacci method\n",
    "    seq = []\n",
    "    for i in range(n-1):\n",
    "        d = 1-(fibo(100)[n-i]/fibo(100)[(n+1)-i])\n",
    "        #print(d)\n",
    "        seq.append(d)\n",
    "    return(seq)\n",
    "        \n",
    "print(rho(4))\n",
    "print(rho(4)[0]) # 1-rho_n \n",
    "print(rho1(5)[0]) # rho_n\n"
   ]
  },
  {
   "cell_type": "markdown",
   "metadata": {},
   "source": [
    "We have established the Fibonacci Sequence and the $\\rho _n$ sequence.\n",
    "\n",
    "Now we work on the algorithm. Let's work on the simpler algorithm I made and then expand it to the more accurate one."
   ]
  },
  {
   "cell_type": "code",
   "execution_count": 421,
   "metadata": {},
   "outputs": [
    {
     "name": "stdout",
     "output_type": "stream",
     "text": [
      "((np.float64(0.7808840442067481), np.float64(0.7808840442164111)), np.float64(0.7808840442115796), np.float64(-24.36960156735503))\n"
     ]
    }
   ],
   "source": [
    "def fbm(a,b,s):\n",
    "    for i in range(0,s):\n",
    "        au = a + (rho1(s+1)[i])*(b-a)\n",
    "        bu = a + (rho(s+1)[i])*(b-a)\n",
    "        if f(au) < f(bu):\n",
    "            b = bu\n",
    "            bu = au\n",
    "            au = a + (rho1(s+1)[i])*(bu-a)\n",
    "            #print(au,bu,a,b)\n",
    "        if f(au) > f(bu):\n",
    "            a = au\n",
    "            au = bu\n",
    "            bu = au + (rho(s+1)[i])*(b-au)\n",
    "            #print(au,bu,a,b)\n",
    "    return (a,b), (a+b)/2, f((a+b)/2)\n",
    "        \n",
    "        \n",
    "            \n",
    "        \n",
    "print(fbm(0,2,50))"
   ]
  },
  {
   "cell_type": "markdown",
   "metadata": {},
   "source": [
    "Now, this is the minimzer, however the interval progression does not align with the textbook. We will try with the more advanced algorithm."
   ]
  },
  {
   "cell_type": "code",
   "execution_count": null,
   "metadata": {},
   "outputs": [],
   "source": []
  }
 ],
 "metadata": {
  "kernelspec": {
   "display_name": "Python 3",
   "language": "python",
   "name": "python3"
  },
  "language_info": {
   "codemirror_mode": {
    "name": "ipython",
    "version": 3
   },
   "file_extension": ".py",
   "mimetype": "text/x-python",
   "name": "python",
   "nbconvert_exporter": "python",
   "pygments_lexer": "ipython3",
   "version": "3.12.1"
  }
 },
 "nbformat": 4,
 "nbformat_minor": 2
}
