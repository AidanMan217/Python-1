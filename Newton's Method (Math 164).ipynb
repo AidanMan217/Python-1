{
 "cells": [
  {
   "cell_type": "code",
   "execution_count": 2,
   "metadata": {},
   "outputs": [],
   "source": [
    "import numpy as np\n",
    "import matplotlib as plot"
   ]
  },
  {
   "cell_type": "markdown",
   "metadata": {},
   "source": [
    "**Explanation:**\n",
    "\n",
    "Newton's Method is simply given by the formula:\n",
    "\n",
    "$x^{(k+1)} = x^{(k)} - \\frac{f'(x^{(k)})}{f''(x^{(k)})}$\n",
    "\n",
    "**Example:**\n",
    "\n",
    "$x^{(1)} = x^{(0)} - \\frac{f'(x^{(0)})}{f''(x^{(0)})}$\n",
    "\n",
    "then\n",
    "\n",
    "$x^{(2)} = x^{(1)} - \\frac{f'(x^{(1)})}{f''(x^{(1)})}$\n",
    "\n",
    "and so on...\n",
    "\n",
    "**Note:**\n",
    "\n",
    "It's best to have $0<|x^{(k+1)} - x^{(k)}|<\\epsilon$ $\\, \\forall i,j \\in \\mathbb{N}$ for $i \\neq j$ for $\\epsilon$ very small. \n",
    "\n",
    "This is to ensure that the difference between the steps get very close and therefore converging to a single point $x$ that makes $f'(x) \\approx 0$ and $f''(x) > 0$. If this is the case, then $x = x^*$ which is the minimzer. "
   ]
  },
  {
   "cell_type": "code",
   "execution_count": 39,
   "metadata": {},
   "outputs": [
    {
     "name": "stdout",
     "output_type": "stream",
     "text": [
      "-0.3414709848078965 0.4597069015011001 1.841471419794516\n"
     ]
    }
   ],
   "source": [
    "def f(x): #given function f(x)\n",
    "    return (1/2)*(x**2)-np.sin(x)\n",
    "\n",
    "def df(x): #derivative function f'(x)\n",
    "    h = 1e-5\n",
    "    return (f(x+h)-f(x))/h\n",
    "\n",
    "def d2f(x): #derivative function f''(x)\n",
    "    h = 1e-6\n",
    "    return (df(x+h)-df(x))/h\n",
    "\n",
    "print(f(1),df(1),d2f(1))"
   ]
  },
  {
   "cell_type": "code",
   "execution_count": 42,
   "metadata": {},
   "outputs": [
    {
     "name": "stdout",
     "output_type": "stream",
     "text": [
      "min\n",
      "0.7390801332112602\n",
      "min\n",
      "-0.4004886120924588\n"
     ]
    }
   ],
   "source": [
    "def newt(x,n):\n",
    "    for i in range(n):\n",
    "        x = x - (df(x))/(d2f(x))\n",
    "        if df(x) == 0 and d2f(x) > 0:\n",
    "            print(\"min\")\n",
    "            break\n",
    "    return x\n",
    "\n",
    "#interval\n",
    "a,b = 0,2\n",
    "\n",
    "#midpoint\n",
    "x = (a+b)/2\n",
    "\n",
    "print(newt(x,20)) # x*\n",
    "print(f(newt(x,20))) # f(x*)"
   ]
  },
  {
   "cell_type": "markdown",
   "metadata": {},
   "source": [
    "It's really that simple, however may not be the most accurate."
   ]
  }
 ],
 "metadata": {
  "kernelspec": {
   "display_name": "Python 3",
   "language": "python",
   "name": "python3"
  },
  "language_info": {
   "codemirror_mode": {
    "name": "ipython",
    "version": 3
   },
   "file_extension": ".py",
   "mimetype": "text/x-python",
   "name": "python",
   "nbconvert_exporter": "python",
   "pygments_lexer": "ipython3",
   "version": "3.12.1"
  }
 },
 "nbformat": 4,
 "nbformat_minor": 2
}
