{
 "cells": [
  {
   "cell_type": "code",
   "execution_count": 112,
   "metadata": {},
   "outputs": [],
   "source": [
    "import numpy as np\n",
    "import matplotlib as plot"
   ]
  },
  {
   "cell_type": "code",
   "execution_count": 113,
   "metadata": {},
   "outputs": [],
   "source": [
    "def f(x):\n",
    "    return x**4 - 14*x**3 + 60*x**2 - 70*x\n"
   ]
  },
  {
   "cell_type": "code",
   "execution_count": 116,
   "metadata": {},
   "outputs": [
    {
     "name": "stdout",
     "output_type": "stream",
     "text": [
      "updating b1 to 0.7639320225002102, new interval: [0, 1.2360679774997898]\n",
      "updating a1 to 0.7639320225002102, new interval: [0.2917960675006308, 1.2360679774997898]\n",
      "updating b1 to 0.7639320225002102, new interval: [0.2917960675006308, 1.0557280900008412]\n",
      "updating a1 to 0.7639320225002102, new interval: [0.4721359549995793, 1.0557280900008412]\n",
      "updating b1 to 0.7639320225002102, new interval: [0.4721359549995793, 0.9442719099991588]\n",
      "updating a1 to 0.7639320225002102, new interval: [0.5835921350012617, 0.9442719099991588]\n",
      "updating b1 to 0.7639320225002102, new interval: [0.5835921350012617, 0.8753882025018926]\n",
      "updating a1 to 0.7639320225002102, new interval: [0.6524758424985277, 0.8753882025018926]\n",
      "updating b1 to 0.7639320225002102, new interval: [0.6524758424985277, 0.8328157299974763]\n",
      "updating a1 to 0.7639320225002102, new interval: [0.6950483150029442, 0.8328157299974763]\n",
      "0.7639320225002102\n"
     ]
    }
   ],
   "source": [
    "def gse(a_0, b_0, iter):\n",
    "    rho = ((3-(np.sqrt(5)))/2)\n",
    "    a_1 = a_0 + rho*(b_0-a_0) # first update: a_1\n",
    "    b_1 = a_0 + (1-rho)*(b_0-a_0) # first update: b_1 \n",
    "    \n",
    "    for i in range(iter):\n",
    "        if f(a_1) < f(b_1): #if f(a) < f(b)\n",
    "            b_0 = b_1 # updating the interval [a_0, b_0] -> [a_0, b_1]\n",
    "            b_1 = a_1 # let the update of b coincide with the old a\n",
    "            a_1 = a_0 + rho*(b_1-a_0) #updated a\n",
    "            print(f\"updating b1 to {b_1}, new interval: [{a_0}, {b_0}]\")\n",
    "        if f(a_1) > f(b_1):\n",
    "            a_0 = a_1 # updating the interval [a_0, b_0] -> [a_1, b_0]\n",
    "            a_1 = b_1 # let the update of a coincide with the old b\n",
    "            b_1 = a_1 + (1-rho)*(b_0-a_1) #updated b\n",
    "            print(f\"updating a1 to {a_1}, new interval: [{a_0}, {b_0}]\")\n",
    "    return (a_0+b_0)/2\n",
    "\n",
    "    if f(a_1) < f(b_1):\n",
    "        return a_0,b_1\n",
    "    if f(a_1) > f(b_1):\n",
    "        return a_1, b_0\n",
    "    \n",
    "    \n",
    "N = 5\n",
    "result = gse(0,2,N)\n",
    "print(result)\n",
    "\n",
    "             "
   ]
  },
  {
   "cell_type": "code",
   "execution_count": null,
   "metadata": {},
   "outputs": [
    {
     "name": "stdout",
     "output_type": "stream",
     "text": [
      "Iteration 1:\n",
      "  Current interval: [0.0000, 2.0000]\n",
      "  a1 = 0.7639, b1 = 1.2361\n",
      "  f(a1) = -24.3607, f(b1) = -18.9582\n",
      "  Updating b0 to 1.2361, new interval: [0.0000, 1.2361]\n",
      "Iteration 2:\n",
      "  Current interval: [0.0000, 1.2361]\n",
      "  a1 = 0.2918, b1 = 0.7639\n",
      "  f(a1) = -15.6576, f(b1) = -24.3607\n",
      "  Updating a0 to 0.2918, new interval: [0.2918, 1.2361]\n",
      "Iteration 3:\n",
      "  Current interval: [0.2918, 1.2361]\n",
      "  a1 = 0.7639, b1 = 0.8754\n",
      "  f(a1) = -24.3607, f(b1) = -24.1031\n",
      "  Updating b0 to 0.8754, new interval: [0.2918, 0.8754]\n",
      "Iteration 4:\n",
      "  Current interval: [0.2918, 0.8754]\n",
      "  a1 = 0.4721, b1 = 0.7639\n",
      "  f(a1) = -21.0985, f(b1) = -24.3607\n",
      "  Updating a0 to 0.4721, new interval: [0.4721, 0.8754]\n",
      "Iteration 5:\n",
      "  Current interval: [0.4721, 0.8754]\n",
      "  a1 = 0.7639, b1 = 0.7214\n",
      "  f(a1) = -24.3607, f(b1) = -24.2579\n",
      "  Updating b0 to 0.7214, new interval: [0.4721, 0.7214]\n",
      "Final interval after 5 iterations: [0.4721, 0.7214]\n"
     ]
    }
   ],
   "source": []
  }
 ],
 "metadata": {
  "kernelspec": {
   "display_name": "Python 3",
   "language": "python",
   "name": "python3"
  },
  "language_info": {
   "codemirror_mode": {
    "name": "ipython",
    "version": 3
   },
   "file_extension": ".py",
   "mimetype": "text/x-python",
   "name": "python",
   "nbconvert_exporter": "python",
   "pygments_lexer": "ipython3",
   "version": "3.12.1"
  }
 },
 "nbformat": 4,
 "nbformat_minor": 2
}
