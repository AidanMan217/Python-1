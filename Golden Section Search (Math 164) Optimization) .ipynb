{
 "cells": [
  {
   "cell_type": "code",
   "execution_count": 1,
   "metadata": {},
   "outputs": [],
   "source": [
    "import numpy as np\n",
    "import matplotlib as plot"
   ]
  },
  {
   "cell_type": "code",
   "execution_count": 2,
   "metadata": {},
   "outputs": [],
   "source": [
    "def f(x):\n",
    "    return x**4 - 14*x**3 + 60*x**2 - 70*x\n"
   ]
  },
  {
   "cell_type": "markdown",
   "metadata": {},
   "source": [
    "**First Attempt**"
   ]
  },
  {
   "cell_type": "code",
   "execution_count": 3,
   "metadata": {},
   "outputs": [
    {
     "name": "stdout",
     "output_type": "stream",
     "text": [
      "The interval where the global min lies is x* ∈ (np.float64(0.7808840272273438), np.float64(0.7808840783937211))  and f(x*) ∈  (np.float64(-24.369601567355016), np.float64(-24.36960156735501))\n",
      "or x* ≈ 0.7808840528105325  f(x*) ≈ -24.369601567355033\n"
     ]
    }
   ],
   "source": [
    "def gss(a, b, iter):\n",
    "    rho = ((3-(np.sqrt(5)))/2)\n",
    "    au = a + rho*(b-a) # first update: au\n",
    "    bu = a + (1-rho)*(b-a) # first update: bu \n",
    "    \n",
    "    for i in range(iter):\n",
    "        if f(au) < f(bu): #if f(a) < f(b)\n",
    "            b = bu # updating the interval [a, b] -> [a, bu]\n",
    "            bu = au # let the update of b coincide with the old a\n",
    "            au = a + rho*(bu-a) #updated a\n",
    "        if f(au) > f(bu):\n",
    "            a = au # updating the interval [a, b] -> [au, b]\n",
    "            au = bu # let the update of a coincide with the old b\n",
    "            bu = au + (1-rho)*(b-au) #updated b\n",
    "            \n",
    "  \n",
    "    return (a,b), (f(a),f(b)), (b+a)/2, f((b+a)/2)\n",
    "    \n",
    "iterations = 100\n",
    "result = gss(0,2,iterations)\n",
    "print(\"The interval where the global min lies is x* ∈\",result[0], \" and f(x*) ∈ \", result[1])\n",
    "print(\"or x* ≈\", result[2], \" f(x*) ≈\", result[3])\n",
    "\n",
    "             "
   ]
  },
  {
   "cell_type": "markdown",
   "metadata": {},
   "source": [
    "**Second More Accurate Try**"
   ]
  },
  {
   "cell_type": "code",
   "execution_count": 4,
   "metadata": {},
   "outputs": [
    {
     "name": "stdout",
     "output_type": "stream",
     "text": [
      "(0, np.float64(1.2360679774997898))\n",
      "(np.float64(0.4721359549995794), np.float64(1.2360679774997898))\n",
      "(np.float64(0.4721359549995794), np.float64(0.9442719099991589))\n",
      "(np.float64(0.6524758424985279), np.float64(0.9442719099991589))\n",
      "x* is within  (np.float64(0.6524758424985279), np.float64(0.8328157299974764))\n",
      "(0, np.float64(1.2360679774997898))\n",
      "(np.float64(0.4721359549995794), np.float64(1.2360679774997898))\n",
      "(np.float64(0.4721359549995794), np.float64(0.9442719099991589))\n",
      "(np.float64(0.6524758424985279), np.float64(0.9442719099991589))\n",
      "(np.float64(0.6524758424985279), np.float64(0.8328157299974764))\n",
      "(np.float64(0.7213595499957939), np.float64(0.8328157299974764))\n",
      "(np.float64(0.7639320225002102), np.float64(0.8328157299974764))\n",
      "(np.float64(0.7639320225002102), np.float64(0.8065044950046266))\n",
      "(np.float64(0.7639320225002102), np.float64(0.79024325749306))\n",
      "(np.float64(0.7739820199814932), np.float64(0.79024325749306))\n",
      "(np.float64(0.7739820199814932), np.float64(0.7840320174627762))\n",
      "(np.float64(0.7778207774324924), np.float64(0.7840320174627762))\n",
      "(np.float64(0.7778207774324924), np.float64(0.7816595348834917))\n",
      "(np.float64(0.7792870523042073), np.float64(0.7816595348834917))\n",
      "(np.float64(0.7801932600117769), np.float64(0.7816595348834917))\n",
      "(np.float64(0.7801932600117769), np.float64(0.7810994677193466))\n",
      "(np.float64(0.7805394005552014), np.float64(0.7810994677193466))\n",
      "(np.float64(0.780753327175922), np.float64(0.7810994677193466))\n",
      "(np.float64(0.780753327175922), np.float64(0.7809672537966428))\n",
      "(np.float64(0.780835039873939), np.float64(0.7809672537966428))\n",
      "(np.float64(0.780835039873939), np.float64(0.7809167525719559))\n",
      "(np.float64(0.780866251347269), np.float64(0.7809167525719559))\n",
      "(np.float64(0.780866251347269), np.float64(0.7808974628205989))\n",
      "(np.float64(0.780878173069242), np.float64(0.7808974628205989))\n",
      "(np.float64(0.780878173069242), np.float64(0.7808900947912151))\n",
      "(np.float64(0.780878173069242), np.float64(0.780885541098626))\n",
      "x* is within  (np.float64(0.7808809874060365), np.float64(0.7808827267618313))\n",
      "x* is approx.  0.780881857083934  and f(x*) is approx.  -24.369601567206207\n"
     ]
    }
   ],
   "source": [
    "rho = (3- np.sqrt(5))/2\n",
    "\n",
    "def gss2(f,a,b,tol=0.3): #letting the range equal what's in the example\n",
    "    a = min(a, b) # a is the least end point\n",
    "    b= max(a,b) # b is the greatest end point\n",
    "    h = b - a # from the formula in the book --> au = a + rho*(b - a)\n",
    "    if h <= tol: \n",
    "        return (a,b) # if the distance between 'b' and 'a' is withing 0.3, then return the interval in which the minimum lies\n",
    "    \n",
    "    N = int(np.ceil(np.log(tol / h) / np.log(1-rho))) #This is from the book: (0.61803)^N < range/b-a and solving for N\n",
    "    \n",
    "    c = a + rho*h #update equation for a\n",
    "    d = a + (1-rho)*h #update equation for b\n",
    "    fc = f(c)\n",
    "    fd = f(d)  #necessary for determing how to update the interval\n",
    "     \n",
    "    for i in range(N): \n",
    "        h *= 1-rho \n",
    "        if fc < fd: #coinciding with f(a) < f(b) in the book\n",
    "            b = d # interval [a,b] -> [a,d]\n",
    "            d = c # the update of b is d\n",
    "            fd = fc # f(update of b) = f(a)\n",
    "            c = a + rho*h # updating of a\n",
    "            fc = f(c) # f(udpate of a)\n",
    "            print((a,b))\n",
    "        else: #coinciding with f(b) < f(a) in the book\n",
    "            a = c # interval [a,b] -> [c,b]\n",
    "            c = d # the update of a is c\n",
    "            fc = fd # f(update of a) = f(b)\n",
    "            d = a + (1-rho)*h # updating of b\n",
    "            fd = f(d) # f(update of b)\n",
    "            print((a,b))\n",
    "    return (a,d) if fc < fd else (c,d) #\n",
    "\n",
    "result2 = gss2(f,0,2,0.3)\n",
    "print(\"x* is within \", result2)\n",
    "result3 = gss2(f,0,2,1e-5)\n",
    "print(\"x* is within \", result3)\n",
    "print(\"x* is approx. \", (result3[0] + result3[1])/2, \" and f(x*) is approx. \", f((result3[0] + result3[1])/2)) #average"
   ]
  },
  {
   "cell_type": "markdown",
   "metadata": {},
   "source": [
    "These updated intervals coincide more accurately with the textbook"
   ]
  },
  {
   "cell_type": "markdown",
   "metadata": {},
   "source": [
    "Golden Section Search explained according to \"An Introduction to Optimization 4ed\" by Chong and Zak"
   ]
  },
  {
   "cell_type": "markdown",
   "metadata": {},
   "source": [
    "\n",
    "We are given a function $f$ and a starting interval $[a_0,b_0]$ and a tolerance (the range for which the interval must converge to). \n",
    "\n",
    "In order for this algorithm to work we require a $\\rho = \\frac{(3- \\sqrt{5})}{2}$\n",
    "\n",
    "The number of steps $N$ is determined by $(1-\\rho)^N \\leq \\frac{tolerance}{b_0 - a_0}$\n",
    "\n",
    "By this we deduce that $N = \\left \\lceil{\\frac{\\log(\\frac{tolerance}{b_0 - a_0})}{\\log(1-\\rho)}}\\right \\rceil$\n",
    "\n",
    "Now when updating $a$ and $b$ to $c$ and $d$ respectively we have,\n",
    "\n",
    "$ c = a + \\rho (b - a)$\n",
    "\n",
    "$ d = a + (1-\\rho) (b - a)$\n",
    "\n",
    "if $f(c) < f(d)$ then $x* \\in [a_0,d]$ \n",
    "    \n",
    "then set $d = c$ and calculate $c = a + \\rho (d - a)$ which updates $c$\n",
    "\n",
    "then compate $f(c)$ and $f(d)$ again and repeat and continue updating the interval\n",
    "\n",
    "if $f(d) < f(c)$ then $x* \\in [c,b_0]$\n",
    "\n",
    "then set $c = d$ and calculate $d = c + \\rho (b - c)$ which updates $d$\n",
    "\n",
    "then compare $f(c)$ and $f(d)$ again and repeat and continue updating the interval\n",
    "\n",
    "when the difference between the updated $a$ and $b$ is less than the tolerance then the algorithm stops and the global minimizer $x^*$ of the $f$ is within that interval."
   ]
  }
 ],
 "metadata": {
  "kernelspec": {
   "display_name": "Python 3",
   "language": "python",
   "name": "python3"
  },
  "language_info": {
   "codemirror_mode": {
    "name": "ipython",
    "version": 3
   },
   "file_extension": ".py",
   "mimetype": "text/x-python",
   "name": "python",
   "nbconvert_exporter": "python",
   "pygments_lexer": "ipython3",
   "version": "3.12.1"
  }
 },
 "nbformat": 4,
 "nbformat_minor": 2
}
